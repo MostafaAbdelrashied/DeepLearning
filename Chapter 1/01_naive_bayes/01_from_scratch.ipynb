{
 "cells": [
  {
   "cell_type": "markdown",
   "metadata": {},
   "source": [
    "## Naive Bayes classifier:\n",
    "\n",
    "**Definition**: It is a supervised generative learning algorithm that is used for classification tasks. It aims at modelling the distribution of the inputs of a given class. It predicts the probability of an instance belonging to a class with a given set of features.\n",
    "\n",
    "**Assumptions**:\n",
    "    - Feature independence: The features are condtionally independent given a target class.\n",
    "    - Continues features: follow Gaussian distribution\n",
    "    - Discrete features have multinominal distribution\n",
    "    - Features are equally important\n",
    "\n",
    "**Cons**:\n",
    "    - In reality, most datasets have some dependency between features.\n",
    "    - It is not a discriminative model. It doesn't learn whihc feature are most important to differentiate between classes.\n",
    "    \n",
    "\n",
    "**Pros**:\n",
    "    - Very efficient and highly scalable as the number of parameters scale linearly with the number of variables. \n",
    "    - MLE training can be done using a closed form, which takes a linear time. \n",
    "    - It requiers a small amount of data to estimate parameters.\n",
    "\n",
    "**Main applications**:\n",
    "    - Text classification (spam filtering, sentiment detection, rating classification)\n"
   ]
  },
  {
   "cell_type": "code",
   "execution_count": 1,
   "metadata": {},
   "outputs": [],
   "source": [
    "%load_ext autoreload\n",
    "%autoreload 2"
   ]
  },
  {
   "cell_type": "code",
   "execution_count": 2,
   "metadata": {},
   "outputs": [],
   "source": [
    "import pandas as pd"
   ]
  },
  {
   "cell_type": "code",
   "execution_count": 3,
   "metadata": {},
   "outputs": [],
   "source": [
    "data = {\n",
    "    'Outlook': ['Rainy', 'Rainy', 'Overcast', 'Sunny', 'Sunny', 'Sunny', 'Overcast', 'Rainy', 'Rainy', 'Sunny', 'Rainy', 'Overcast', 'Overcast', 'Sunny'],\n",
    "    'Temperature': ['Hot', 'Hot', 'Hot', 'Mild', 'Cool', 'Cool', 'Cool', 'Mild', 'Cool', 'Mild', 'Mild', 'Mild', 'Hot', 'Mild'],\n",
    "    'Humidity': ['High', 'High', 'High', 'High', 'Normal', 'Normal', 'Normal', 'High', 'Normal', 'Normal', 'Normal', 'High', 'Normal', 'High'],\n",
    "    'Windy': [False, True, False, False, False, True, True, False, False, False, True, True, False, True],\n",
    "    'Play Golf': ['No', 'No', 'Yes', 'Yes', 'Yes', 'No', 'Yes', 'No', 'Yes', 'Yes', 'Yes', 'Yes', 'Yes', 'No']\n",
    "}\n",
    "\n",
    "df = pd.DataFrame(data)"
   ]
  },
  {
   "cell_type": "code",
   "execution_count": 25,
   "metadata": {},
   "outputs": [
    {
     "data": {
      "text/html": [
       "<div>\n",
       "<style scoped>\n",
       "    .dataframe tbody tr th:only-of-type {\n",
       "        vertical-align: middle;\n",
       "    }\n",
       "\n",
       "    .dataframe tbody tr th {\n",
       "        vertical-align: top;\n",
       "    }\n",
       "\n",
       "    .dataframe thead th {\n",
       "        text-align: right;\n",
       "    }\n",
       "</style>\n",
       "<table border=\"1\" class=\"dataframe\">\n",
       "  <thead>\n",
       "    <tr style=\"text-align: right;\">\n",
       "      <th>Play Golf</th>\n",
       "      <th>No</th>\n",
       "      <th>Yes</th>\n",
       "      <th>P(No)</th>\n",
       "      <th>P(Yes)</th>\n",
       "    </tr>\n",
       "    <tr>\n",
       "      <th>Outlook</th>\n",
       "      <th></th>\n",
       "      <th></th>\n",
       "      <th></th>\n",
       "      <th></th>\n",
       "    </tr>\n",
       "  </thead>\n",
       "  <tbody>\n",
       "    <tr>\n",
       "      <th>Overcast</th>\n",
       "      <td>0</td>\n",
       "      <td>4</td>\n",
       "      <td>0 / 5</td>\n",
       "      <td>4 / 9</td>\n",
       "    </tr>\n",
       "    <tr>\n",
       "      <th>Rainy</th>\n",
       "      <td>3</td>\n",
       "      <td>2</td>\n",
       "      <td>3 / 5</td>\n",
       "      <td>2 / 9</td>\n",
       "    </tr>\n",
       "    <tr>\n",
       "      <th>Sunny</th>\n",
       "      <td>2</td>\n",
       "      <td>3</td>\n",
       "      <td>2 / 5</td>\n",
       "      <td>3 / 9</td>\n",
       "    </tr>\n",
       "    <tr>\n",
       "      <th>Total</th>\n",
       "      <td>5</td>\n",
       "      <td>9</td>\n",
       "      <td>1.0</td>\n",
       "      <td>1.0</td>\n",
       "    </tr>\n",
       "  </tbody>\n",
       "</table>\n",
       "</div>"
      ],
      "text/plain": [
       "Play Golf  No  Yes  P(No) P(Yes)\n",
       "Outlook                         \n",
       "Overcast    0    4  0 / 5  4 / 9\n",
       "Rainy       3    2  3 / 5  2 / 9\n",
       "Sunny       2    3  2 / 5  3 / 9\n",
       "Total       5    9    1.0    1.0"
      ]
     },
     "metadata": {},
     "output_type": "display_data"
    },
    {
     "name": "stdout",
     "output_type": "stream",
     "text": [
      "------------------------------------------------------------------------\n"
     ]
    },
    {
     "data": {
      "text/html": [
       "<div>\n",
       "<style scoped>\n",
       "    .dataframe tbody tr th:only-of-type {\n",
       "        vertical-align: middle;\n",
       "    }\n",
       "\n",
       "    .dataframe tbody tr th {\n",
       "        vertical-align: top;\n",
       "    }\n",
       "\n",
       "    .dataframe thead th {\n",
       "        text-align: right;\n",
       "    }\n",
       "</style>\n",
       "<table border=\"1\" class=\"dataframe\">\n",
       "  <thead>\n",
       "    <tr style=\"text-align: right;\">\n",
       "      <th>Play Golf</th>\n",
       "      <th>No</th>\n",
       "      <th>Yes</th>\n",
       "      <th>P(No)</th>\n",
       "      <th>P(Yes)</th>\n",
       "    </tr>\n",
       "    <tr>\n",
       "      <th>Temperature</th>\n",
       "      <th></th>\n",
       "      <th></th>\n",
       "      <th></th>\n",
       "      <th></th>\n",
       "    </tr>\n",
       "  </thead>\n",
       "  <tbody>\n",
       "    <tr>\n",
       "      <th>Cool</th>\n",
       "      <td>1</td>\n",
       "      <td>3</td>\n",
       "      <td>1 / 5</td>\n",
       "      <td>3 / 9</td>\n",
       "    </tr>\n",
       "    <tr>\n",
       "      <th>Hot</th>\n",
       "      <td>2</td>\n",
       "      <td>2</td>\n",
       "      <td>2 / 5</td>\n",
       "      <td>2 / 9</td>\n",
       "    </tr>\n",
       "    <tr>\n",
       "      <th>Mild</th>\n",
       "      <td>2</td>\n",
       "      <td>4</td>\n",
       "      <td>2 / 5</td>\n",
       "      <td>4 / 9</td>\n",
       "    </tr>\n",
       "    <tr>\n",
       "      <th>Total</th>\n",
       "      <td>5</td>\n",
       "      <td>9</td>\n",
       "      <td>1.0</td>\n",
       "      <td>1.0</td>\n",
       "    </tr>\n",
       "  </tbody>\n",
       "</table>\n",
       "</div>"
      ],
      "text/plain": [
       "Play Golf    No  Yes  P(No) P(Yes)\n",
       "Temperature                       \n",
       "Cool          1    3  1 / 5  3 / 9\n",
       "Hot           2    2  2 / 5  2 / 9\n",
       "Mild          2    4  2 / 5  4 / 9\n",
       "Total         5    9    1.0    1.0"
      ]
     },
     "metadata": {},
     "output_type": "display_data"
    },
    {
     "name": "stdout",
     "output_type": "stream",
     "text": [
      "------------------------------------------------------------------------\n"
     ]
    },
    {
     "data": {
      "text/html": [
       "<div>\n",
       "<style scoped>\n",
       "    .dataframe tbody tr th:only-of-type {\n",
       "        vertical-align: middle;\n",
       "    }\n",
       "\n",
       "    .dataframe tbody tr th {\n",
       "        vertical-align: top;\n",
       "    }\n",
       "\n",
       "    .dataframe thead th {\n",
       "        text-align: right;\n",
       "    }\n",
       "</style>\n",
       "<table border=\"1\" class=\"dataframe\">\n",
       "  <thead>\n",
       "    <tr style=\"text-align: right;\">\n",
       "      <th>Play Golf</th>\n",
       "      <th>No</th>\n",
       "      <th>Yes</th>\n",
       "      <th>P(No)</th>\n",
       "      <th>P(Yes)</th>\n",
       "    </tr>\n",
       "    <tr>\n",
       "      <th>Humidity</th>\n",
       "      <th></th>\n",
       "      <th></th>\n",
       "      <th></th>\n",
       "      <th></th>\n",
       "    </tr>\n",
       "  </thead>\n",
       "  <tbody>\n",
       "    <tr>\n",
       "      <th>High</th>\n",
       "      <td>4</td>\n",
       "      <td>3</td>\n",
       "      <td>4 / 5</td>\n",
       "      <td>3 / 9</td>\n",
       "    </tr>\n",
       "    <tr>\n",
       "      <th>Normal</th>\n",
       "      <td>1</td>\n",
       "      <td>6</td>\n",
       "      <td>1 / 5</td>\n",
       "      <td>6 / 9</td>\n",
       "    </tr>\n",
       "    <tr>\n",
       "      <th>Total</th>\n",
       "      <td>5</td>\n",
       "      <td>9</td>\n",
       "      <td>1.0</td>\n",
       "      <td>1.0</td>\n",
       "    </tr>\n",
       "  </tbody>\n",
       "</table>\n",
       "</div>"
      ],
      "text/plain": [
       "Play Golf  No  Yes  P(No) P(Yes)\n",
       "Humidity                        \n",
       "High        4    3  4 / 5  3 / 9\n",
       "Normal      1    6  1 / 5  6 / 9\n",
       "Total       5    9    1.0    1.0"
      ]
     },
     "metadata": {},
     "output_type": "display_data"
    },
    {
     "name": "stdout",
     "output_type": "stream",
     "text": [
      "------------------------------------------------------------------------\n"
     ]
    },
    {
     "data": {
      "text/html": [
       "<div>\n",
       "<style scoped>\n",
       "    .dataframe tbody tr th:only-of-type {\n",
       "        vertical-align: middle;\n",
       "    }\n",
       "\n",
       "    .dataframe tbody tr th {\n",
       "        vertical-align: top;\n",
       "    }\n",
       "\n",
       "    .dataframe thead th {\n",
       "        text-align: right;\n",
       "    }\n",
       "</style>\n",
       "<table border=\"1\" class=\"dataframe\">\n",
       "  <thead>\n",
       "    <tr style=\"text-align: right;\">\n",
       "      <th>Play Golf</th>\n",
       "      <th>No</th>\n",
       "      <th>Yes</th>\n",
       "      <th>P(No)</th>\n",
       "      <th>P(Yes)</th>\n",
       "    </tr>\n",
       "    <tr>\n",
       "      <th>Windy</th>\n",
       "      <th></th>\n",
       "      <th></th>\n",
       "      <th></th>\n",
       "      <th></th>\n",
       "    </tr>\n",
       "  </thead>\n",
       "  <tbody>\n",
       "    <tr>\n",
       "      <th>False</th>\n",
       "      <td>2</td>\n",
       "      <td>6</td>\n",
       "      <td>2 / 5</td>\n",
       "      <td>6 / 9</td>\n",
       "    </tr>\n",
       "    <tr>\n",
       "      <th>True</th>\n",
       "      <td>3</td>\n",
       "      <td>3</td>\n",
       "      <td>3 / 5</td>\n",
       "      <td>3 / 9</td>\n",
       "    </tr>\n",
       "    <tr>\n",
       "      <th>Total</th>\n",
       "      <td>5</td>\n",
       "      <td>9</td>\n",
       "      <td>1.0</td>\n",
       "      <td>1.0</td>\n",
       "    </tr>\n",
       "  </tbody>\n",
       "</table>\n",
       "</div>"
      ],
      "text/plain": [
       "Play Golf  No  Yes  P(No) P(Yes)\n",
       "Windy                           \n",
       "False       2    6  2 / 5  6 / 9\n",
       "True        3    3  3 / 5  3 / 9\n",
       "Total       5    9    1.0    1.0"
      ]
     },
     "metadata": {},
     "output_type": "display_data"
    },
    {
     "name": "stdout",
     "output_type": "stream",
     "text": [
      "------------------------------------------------------------------------\n",
      "Yes\n"
     ]
    },
    {
     "data": {
      "text/html": [
       "<div>\n",
       "<style scoped>\n",
       "    .dataframe tbody tr th:only-of-type {\n",
       "        vertical-align: middle;\n",
       "    }\n",
       "\n",
       "    .dataframe tbody tr th {\n",
       "        vertical-align: top;\n",
       "    }\n",
       "\n",
       "    .dataframe thead th {\n",
       "        text-align: right;\n",
       "    }\n",
       "</style>\n",
       "<table border=\"1\" class=\"dataframe\">\n",
       "  <thead>\n",
       "    <tr style=\"text-align: right;\">\n",
       "      <th></th>\n",
       "      <th>count</th>\n",
       "      <th>P(Play Golf)</th>\n",
       "    </tr>\n",
       "    <tr>\n",
       "      <th>Play Golf</th>\n",
       "      <th></th>\n",
       "      <th></th>\n",
       "    </tr>\n",
       "  </thead>\n",
       "  <tbody>\n",
       "    <tr>\n",
       "      <th>No</th>\n",
       "      <td>5</td>\n",
       "      <td>5 / 14</td>\n",
       "    </tr>\n",
       "    <tr>\n",
       "      <th>Yes</th>\n",
       "      <td>9</td>\n",
       "      <td>9 / 14</td>\n",
       "    </tr>\n",
       "    <tr>\n",
       "      <th>Total</th>\n",
       "      <td>14</td>\n",
       "      <td>1.0</td>\n",
       "    </tr>\n",
       "  </tbody>\n",
       "</table>\n",
       "</div>"
      ],
      "text/plain": [
       "           count P(Play Golf)\n",
       "Play Golf                    \n",
       "No             5       5 / 14\n",
       "Yes            9       9 / 14\n",
       "Total         14          1.0"
      ]
     },
     "metadata": {},
     "output_type": "display_data"
    },
    {
     "name": "stdout",
     "output_type": "stream",
     "text": [
      "------------------------------------------------------------------------\n"
     ]
    }
   ],
   "source": [
    "target = \"Play Golf\"\n",
    "results = {}\n",
    "for col in df.columns:\n",
    "    if col == target:\n",
    "        print(\"Yes\")\n",
    "        counts = pd.DataFrame(df.groupby(target).size(), columns=[\"count\"])\n",
    "        for idx in counts.index:\n",
    "            counts.loc[idx,f\"P({target})\"] = f'{counts.loc[idx,\"count\"]} / {counts[\"count\"].sum()}'\n",
    "    else:\n",
    "        counts = df.groupby([col, target]).size().unstack(fill_value=0)\n",
    "        for idx in counts.index:\n",
    "            for unique_target in df[target].unique():\n",
    "                counts.loc[idx,f\"P({unique_target})\"] = f'{counts.loc[idx,unique_target]} / {counts[unique_target].sum()}'\n",
    "    \n",
    "    counts.loc['Total'] = counts.sum()\n",
    "    for sub_col in counts.columns:\n",
    "        if \"P(\" in sub_col:\n",
    "            counts.loc[\"Total\",sub_col] = round(sum([eval(item) for item in counts[sub_col]]),0)\n",
    "    display(counts)\n",
    "    results[col] = counts\n",
    "    print(\"------------------------------------------------------------------------\")\n"
   ]
  },
  {
   "cell_type": "code",
   "execution_count": 47,
   "metadata": {},
   "outputs": [],
   "source": [
    "# new pred\n",
    "today = (\"Sunny\", \"Hot\", \"Normal\", \"False\")\n",
    "\n",
    "# p_yes_given_today = (p_today_given_yes * p_yes) / p_today\n",
    "# p_no_given_today = (p_today_given_no * p_yes) / p_today\n",
    "# p_yes_given_today + p_no_given_today = 1\n",
    "\n",
    "# Based on the previous tables\n",
    "p_sunny_given_yes = eval(results[\"Outlook\"].loc[\"Sunny\", \"P(Yes)\"])\n",
    "p_hot_given_yes = eval(results[\"Temperature\"].loc[\"Hot\", \"P(Yes)\"])\n",
    "p_normal_given_yes = eval(results[\"Humidity\"].loc[\"Normal\", \"P(Yes)\"])\n",
    "p_false_given_yes = eval(results[\"Windy\"].loc[False, \"P(Yes)\"])\n",
    "\n",
    "p_today_given_yes = p_sunny_given_yes * p_hot_given_yes * p_normal_given_yes * p_false_given_yes\n",
    "p_yes_given_today_nom = p_today_given_yes * eval(results[\"Play Golf\"].loc[\"Yes\", \"P(Play Golf)\"])\n",
    "\n",
    "\n",
    "p_sunny_given_no = eval(results[\"Outlook\"].loc[\"Sunny\", \"P(No)\"])\n",
    "p_hot_given_no = eval(results[\"Temperature\"].loc[\"Hot\", \"P(No)\"])\n",
    "p_normal_given_no = eval(results[\"Humidity\"].loc[\"Normal\", \"P(No)\"])\n",
    "p_false_given_no = eval(results[\"Windy\"].loc[False, \"P(No)\"])\n",
    "\n",
    "p_today_given_no = p_sunny_given_no * p_hot_given_no * p_normal_given_no * p_false_given_no\n",
    "p_no_given_today_nom = p_today_given_no * eval(results[\"Play Golf\"].loc[\"No\", \"P(Play Golf)\"])\n",
    "\n",
    "p_today = p_yes_given_today_nom + p_no_given_today_nom"
   ]
  },
  {
   "cell_type": "code",
   "execution_count": 48,
   "metadata": {},
   "outputs": [
    {
     "data": {
      "text/plain": [
       "0.8223684210526315"
      ]
     },
     "execution_count": 48,
     "metadata": {},
     "output_type": "execute_result"
    }
   ],
   "source": [
    "p_yes_given_today_nom / p_today"
   ]
  },
  {
   "cell_type": "code",
   "execution_count": 49,
   "metadata": {},
   "outputs": [
    {
     "data": {
      "text/plain": [
       "0.17763157894736847"
      ]
     },
     "execution_count": 49,
     "metadata": {},
     "output_type": "execute_result"
    }
   ],
   "source": [
    "p_no_given_today_nom / p_today"
   ]
  }
 ],
 "metadata": {
  "kernelspec": {
   "display_name": "bat-opt-W96RE7RV-py3.11",
   "language": "python",
   "name": "python3"
  },
  "language_info": {
   "codemirror_mode": {
    "name": "ipython",
    "version": 3
   },
   "file_extension": ".py",
   "mimetype": "text/x-python",
   "name": "python",
   "nbconvert_exporter": "python",
   "pygments_lexer": "ipython3",
   "version": "3.12.4"
  }
 },
 "nbformat": 4,
 "nbformat_minor": 2
}
