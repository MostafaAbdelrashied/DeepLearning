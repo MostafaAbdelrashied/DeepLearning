{
 "cells": [
  {
   "cell_type": "code",
   "execution_count": 1,
   "metadata": {},
   "outputs": [],
   "source": [
    "%load_ext autoreload\n",
    "%autoreload 2"
   ]
  },
  {
   "cell_type": "code",
   "execution_count": 9,
   "metadata": {},
   "outputs": [],
   "source": [
    "import os\n",
    "import re\n",
    "\n",
    "import pandas as pd\n",
    "import seaborn as sns\n",
    "from nltk.corpus import stopwords\n",
    "from nltk.stem import WordNetLemmatizer\n",
    "from nltk.tokenize import word_tokenize\n",
    "from sklearn.feature_extraction.text import CountVectorizer\n",
    "from sklearn.metrics import (\n",
    "    accuracy_score,\n",
    "    balanced_accuracy_score,\n",
    "    precision_score,\n",
    "    recall_score,\n",
    ")\n",
    "from sklearn.model_selection import train_test_split\n",
    "from sklearn.naive_bayes import BernoulliNB, MultinomialNB\n",
    "from tqdm.notebook import tqdm\n",
    "\n",
    "tqdm.pandas()\n"
   ]
  },
  {
   "cell_type": "code",
   "execution_count": 3,
   "metadata": {},
   "outputs": [],
   "source": [
    "rootdir = \"./data\"\n",
    "\n",
    "docs_df = pd.DataFrame()\n",
    "\n",
    "for subdir, dirs, files in os.walk(rootdir):\n",
    "    class_val = subdir.split(\"/\")[-1]\n",
    "    for file in files:\n",
    "        if file.endswith(\".txt\"):\n",
    "            with open(os.path.join(subdir, file), \"r\") as f:\n",
    "                data = f.read()\n",
    "            docs_df.loc[file, [\"text\", \"target\"]] = [data, class_val]\n",
    "docs_df = docs_df.reset_index(drop=True)\n"
   ]
  },
  {
   "cell_type": "code",
   "execution_count": 4,
   "metadata": {},
   "outputs": [
    {
     "data": {
      "text/plain": [
       "<Axes: ylabel='target'>"
      ]
     },
     "execution_count": 4,
     "metadata": {},
     "output_type": "execute_result"
    },
    {
     "data": {
      "image/png": "[encoded data removed]",
      "text/plain": [
       "<Figure size 640x480 with 1 Axes>"
      ]
     },
     "metadata": {},
     "output_type": "display_data"
    }
   ],
   "source": [
    "sns.barplot(docs_df[\"target\"])"
   ]
  },
  {
   "cell_type": "code",
   "execution_count": 5,
   "metadata": {},
   "outputs": [],
   "source": [
    "X_train, X_test, Y_train, Y_test = train_test_split(\n",
    "    docs_df[\"text\"], docs_df[\"target\"], test_size=0.3, random_state=0\n",
    ")"
   ]
  },
  {
   "cell_type": "code",
   "execution_count": 6,
   "metadata": {},
   "outputs": [],
   "source": [
    "def text_clean(text, lemmatize=True, rm_stop=True):\n",
    "    # Compile regex patterns once\n",
    "    patterns = [\n",
    "        (r\"\\n\", \"\"),  # remove line breaks\n",
    "        (r\"\\d+\", \"\"),  # remove digits\n",
    "        (r\"[\\$\\d+\\d+\\$]\", \"\"),  # remove currencies\n",
    "        (r\"\\d+[\\.\\/-]\\d+[\\.\\/-]\\d+\", \"\"),  # remove dates\n",
    "        (r\"[^\\x00-\\x7f]\", \" \"),  # remove non-ascii\n",
    "        (r\"[^\\w\\s]\", \"\"),  # remove punctuation\n",
    "        (r\"https?:\\/\\/.*[\\r\\n]*\", \"\"),  # remove hyperlinks\n",
    "    ]\n",
    "    compiled_patterns = [(re.compile(pattern), repl) for pattern, repl in patterns]\n",
    "\n",
    "    # Apply all regex substitutions\n",
    "    text = text.lower()  # convert to lowercase\n",
    "    for pattern, repl in compiled_patterns:\n",
    "        text = pattern.sub(repl, text)\n",
    "\n",
    "    # Tokenize once\n",
    "    tokens = word_tokenize(text)\n",
    "\n",
    "    # Remove stop words if requested\n",
    "    if rm_stop:\n",
    "        stop_words = set(stopwords.words(\"english\"))\n",
    "        tokens = [word for word in tokens if word not in stop_words]\n",
    "\n",
    "    # Lemmatize if requested\n",
    "    if lemmatize:\n",
    "        lemmer = WordNetLemmatizer()\n",
    "        tokens = [lemmer.lemmatize(word) for word in tokens]\n",
    "\n",
    "    return \" \".join(tokens)\n",
    "\n",
    "X_train_processed = X_train.apply(text_clean)\n",
    "X_test_processed = X_test.apply(text_clean)"
   ]
  },
  {
   "cell_type": "markdown",
   "metadata": {},
   "source": [
    "### Multinomial (Count of occurrences)"
   ]
  },
  {
   "cell_type": "code",
   "execution_count": 10,
   "metadata": {},
   "outputs": [
    {
     "name": "stdout",
     "output_type": "stream",
     "text": [
      "Accuracy: 96.33 %\n",
      "Balanced accuracy: 96.11 %\n",
      "Precision: 96.49 %\n",
      "Recall: 96.11 %\n"
     ]
    }
   ],
   "source": [
    "count_vec = CountVectorizer()\n",
    "count_vectorized_data = count_vec.fit_transform(X_train_processed)\n",
    "\n",
    "#define model\n",
    "model = MultinomialNB(alpha=0.1)\n",
    "model.fit(count_vectorized_data, Y_train)\n",
    "\n",
    "#evaluate model\n",
    "predictions = model.predict(count_vec.transform(X_test_processed))\n",
    "\n",
    "accuracy = accuracy_score( Y_test, predictions)\n",
    "balanced_accuracy = balanced_accuracy_score(Y_test, predictions)\n",
    "precision = precision_score(Y_test, predictions, average=\"macro\")\n",
    "recall = recall_score(Y_test, predictions, average=\"macro\")\n",
    "\n",
    "\n",
    "print(\"Accuracy:\",round(100*accuracy,2),'%')\n",
    "print(\"Balanced accuracy:\",round(100*balanced_accuracy,2),'%')\n",
    "print(\"Precision:\", round(100*precision,2),'%')\n",
    "print(\"Recall:\", round(100*recall,2),'%')\n",
    "\n"
   ]
  },
  {
   "cell_type": "markdown",
   "metadata": {},
   "source": [
    "### Bernoulli (Does word exist in doc)"
   ]
  },
  {
   "cell_type": "code",
   "execution_count": 11,
   "metadata": {},
   "outputs": [
    {
     "name": "stdout",
     "output_type": "stream",
     "text": [
      "Accuracy: 88.67 %\n",
      "Balanced accuracy: 88.01 %\n",
      "Precision: 91.17 %\n",
      "Recall: 88.01 %\n"
     ]
    }
   ],
   "source": [
    "#define model\n",
    "binary_vec = CountVectorizer(binary=True)\n",
    "binary_vectorized_data = binary_vec.fit_transform(X_train_processed)\n",
    "\n",
    "\n",
    "model_binary = BernoulliNB(alpha=0.1)\n",
    "model_binary.fit(binary_vectorized_data, Y_train)\n",
    "\n",
    "#evaluate model\n",
    "predictions_binary = model_binary.predict(binary_vec.transform(X_test_processed))\n",
    "\n",
    "accuracy = accuracy_score( Y_test, predictions_binary)\n",
    "balanced_accuracy = balanced_accuracy_score(Y_test, predictions_binary)\n",
    "precision = precision_score(Y_test, predictions_binary, average=\"macro\")\n",
    "recall = recall_score(Y_test, predictions_binary, average=\"macro\")\n",
    "\n",
    "\n",
    "print(\"Accuracy:\",round(100*accuracy,2),'%')\n",
    "print(\"Balanced accuracy:\",round(100*balanced_accuracy,2),'%')\n",
    "print(\"Precision:\", round(100*precision,2),'%')\n",
    "print(\"Recall:\", round(100*recall,2),'%')\n"
   ]
  }
 ],
 "metadata": {
  "kernelspec": {
   "display_name": "bat-opt-W96RE7RV-py3.11",
   "language": "python",
   "name": "python3"
  },
  "language_info": {
   "codemirror_mode": {
    "name": "ipython",
    "version": 3
   },
   "file_extension": ".py",
   "mimetype": "text/x-python",
   "name": "python",
   "nbconvert_exporter": "python",
   "pygments_lexer": "ipython3",
   "version": "3.12.4"
  }
 },
 "nbformat": 4,
 "nbformat_minor": 2
}
